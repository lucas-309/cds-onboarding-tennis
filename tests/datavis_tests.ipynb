{
 "cells": [
  {
   "cell_type": "code",
   "execution_count": null,
   "metadata": {},
   "outputs": [],
   "source": [
    "import pandas as pd\n",
    "import numpy as np\n",
    "import random\n",
    "\n",
    "%run datavis.ipynb"
   ]
  },
  {
   "cell_type": "code",
   "execution_count": null,
   "metadata": {},
   "outputs": [
    {
     "name": "stdout",
     "output_type": "stream",
     "text": [
      "   Column 1  Column 2\n",
      "0       NaN       2.0\n",
      "1       NaN       NaN\n",
      "Empty DataFrame\n",
      "Columns: [Column 1, Column 2]\n",
      "Index: []\n"
     ]
    }
   ],
   "source": [
    "# remove_nan_rows (edge)\n",
    "data = {\"Column 1\": [np.nan, np.nan],\n",
    "        \"Column 2\": [2, np.nan]}\n",
    "\n",
    "df = pd.DataFrame(data)\n",
    "\n",
    "print(remove_nan_rows(df))"
   ]
  },
  {
   "cell_type": "code",
   "execution_count": null,
   "metadata": {},
   "outputs": [
    {
     "name": "stdout",
     "output_type": "stream",
     "text": [
      "   Column 1 Column 2 Column 3\n",
      "0         2        2        9\n",
      "2         5        b        1\n"
     ]
    }
   ],
   "source": [
    "# remove_nan_rows (general)\n",
    "data = {\"Column 1\": [2, 3, 5],\n",
    "        \"Column 2\": [2, np.nan, \"b\"],\n",
    "        \"Column 3\": [9, \"a\", 1]}\n",
    "\n",
    "df = pd.DataFrame(data)\n",
    "\n",
    "print(remove_nan_rows(df))"
   ]
  },
  {
   "cell_type": "code",
   "execution_count": null,
   "metadata": {},
   "outputs": [
    {
     "name": "stdout",
     "output_type": "stream",
     "text": [
      "{'Column 0': [nan, nan, 2], 'Column 1': [0, 1, nan]}\n",
      "Empty DataFrame\n",
      "Columns: [Column 0, Column 1]\n",
      "Index: []\n"
     ]
    }
   ],
   "source": [
    "# remove_nan_rows (random)\n",
    "data = {}\n",
    "for i in range(random.randint(1, 5)):\n",
    "    values = []\n",
    "    for j in range(3):\n",
    "        if random.randint(1, 10) == 4:\n",
    "            values.append(np.nan)\n",
    "        else:\n",
    "            values.append(j)\n",
    "    data[\"Column \" + str(i)] = values\n",
    "\n",
    "df = pd.DataFrame(data)\n",
    "\n",
    "print(remove_nan_rows(df))"
   ]
  },
  {
   "cell_type": "code",
   "execution_count": 17,
   "metadata": {},
   "outputs": [
    {
     "name": "stdout",
     "output_type": "stream",
     "text": [
      "   Column 1  Column 2\n",
      "0       NaN       NaN\n"
     ]
    },
    {
     "name": "stderr",
     "output_type": "stream",
     "text": [
      "/var/folders/wp/q9yqmlps5m104gvw87tpz3hm0000gn/T/ipykernel_28726/1129364915.py:12: FutureWarning: A value is trying to be set on a copy of a DataFrame or Series through chained assignment using an inplace method.\n",
      "The behavior will change in pandas 3.0. This inplace method will never work because the intermediate object on which we are setting values always behaves as a copy.\n",
      "\n",
      "For example, when doing 'df[col].method(value, inplace=True)', try using 'df.method({col: value}, inplace=True)' or df[col] = df[col].method(value) instead, to perform the operation inplace on the original object.\n",
      "\n",
      "\n",
      "  df_copy[col].fillna(df_copy[col].mean(), inplace=True)\n"
     ]
    }
   ],
   "source": [
    "# replace_nan_with_mean (edge)\n",
    "data = {\"Column 1\": [np.nan],\n",
    "        \"Column 2\": [np.nan]}\n",
    "\n",
    "df = pd.DataFrame(data)\n",
    "\n",
    "print(replace_nan_with_mean(df))"
   ]
  },
  {
   "cell_type": "code",
   "execution_count": 20,
   "metadata": {},
   "outputs": [
    {
     "name": "stdout",
     "output_type": "stream",
     "text": [
      "   Column 1  Column 2  Column 3\n",
      "0         2       2.0         9\n",
      "1         3       4.5         2\n",
      "2         5       7.0         1\n"
     ]
    },
    {
     "name": "stderr",
     "output_type": "stream",
     "text": [
      "/var/folders/wp/q9yqmlps5m104gvw87tpz3hm0000gn/T/ipykernel_28726/1129364915.py:12: FutureWarning: A value is trying to be set on a copy of a DataFrame or Series through chained assignment using an inplace method.\n",
      "The behavior will change in pandas 3.0. This inplace method will never work because the intermediate object on which we are setting values always behaves as a copy.\n",
      "\n",
      "For example, when doing 'df[col].method(value, inplace=True)', try using 'df.method({col: value}, inplace=True)' or df[col] = df[col].method(value) instead, to perform the operation inplace on the original object.\n",
      "\n",
      "\n",
      "  df_copy[col].fillna(df_copy[col].mean(), inplace=True)\n"
     ]
    }
   ],
   "source": [
    "# replace_nan_with_mean (general)\n",
    "data = {\"Column 1\": [2, 3, 5],\n",
    "        \"Column 2\": [2, np.nan, 7],\n",
    "        \"Column 3\": [9, 2, 1]}\n",
    "\n",
    "df = pd.DataFrame(data)\n",
    "\n",
    "print(replace_nan_with_mean(df))"
   ]
  },
  {
   "cell_type": "code",
   "execution_count": 25,
   "metadata": {},
   "outputs": [
    {
     "name": "stdout",
     "output_type": "stream",
     "text": [
      "   Column 0  Column 1  Column 2  Column 3  Column 4\n",
      "0         0         0       0.0       1.5         0\n",
      "1         1         1       1.0       1.0         1\n",
      "2         2         2       0.5       2.0         2\n"
     ]
    },
    {
     "name": "stderr",
     "output_type": "stream",
     "text": [
      "/var/folders/wp/q9yqmlps5m104gvw87tpz3hm0000gn/T/ipykernel_28726/1129364915.py:12: FutureWarning: A value is trying to be set on a copy of a DataFrame or Series through chained assignment using an inplace method.\n",
      "The behavior will change in pandas 3.0. This inplace method will never work because the intermediate object on which we are setting values always behaves as a copy.\n",
      "\n",
      "For example, when doing 'df[col].method(value, inplace=True)', try using 'df.method({col: value}, inplace=True)' or df[col] = df[col].method(value) instead, to perform the operation inplace on the original object.\n",
      "\n",
      "\n",
      "  df_copy[col].fillna(df_copy[col].mean(), inplace=True)\n"
     ]
    }
   ],
   "source": [
    "# replace_nan_with_mean (random)\n",
    "data = {}\n",
    "for i in range(random.randint(1, 5)):\n",
    "    values = []\n",
    "    for j in range(3):\n",
    "        if random.randint(1, 10) == 4:\n",
    "            values.append(np.nan)\n",
    "        else:\n",
    "            values.append(j)\n",
    "    data[\"Column \" + str(i)] = values\n",
    "\n",
    "df = pd.DataFrame(data)\n",
    "\n",
    "print(replace_nan_with_mean(df))"
   ]
  },
  {
   "cell_type": "code",
   "execution_count": null,
   "metadata": {},
   "outputs": [
    {
     "name": "stdout",
     "output_type": "stream",
     "text": [
      "   Column 1_0  Column 1_1\n",
      "0           0        True\n",
      "1           0        True\n",
      "2           0        True\n"
     ]
    }
   ],
   "source": [
    "# one_hot_encode (edge)\n",
    "data = {\"Column 1\": [\"1\", \"1\", \"1\"]}\n",
    "\n",
    "df = pd.DataFrame(data)\n",
    "\n",
    "print(one_hot_encode(df[\"Column 1\"], [\"0\", \"1\"]))"
   ]
  },
  {
   "cell_type": "code",
   "execution_count": 34,
   "metadata": {},
   "outputs": [
    {
     "name": "stdout",
     "output_type": "stream",
     "text": [
      "   Column 1_0  Column 1_1\n",
      "0       False        True\n",
      "1        True       False\n",
      "2       False        True\n",
      "3        True       False\n",
      "4       False        True\n",
      "5       False        True\n",
      "6        True       False\n"
     ]
    }
   ],
   "source": [
    "# one_hot_encode (general)\n",
    "data = {\"Column 1\": [\"1\", \"0\", \"1\", \"0\", \"1\", \"1\", \"0\"]}\n",
    "\n",
    "df = pd.DataFrame(data)\n",
    "\n",
    "print(one_hot_encode(df[\"Column 1\"], [\"0\", \"1\"]))"
   ]
  },
  {
   "cell_type": "code",
   "execution_count": 36,
   "metadata": {},
   "outputs": [
    {
     "name": "stdout",
     "output_type": "stream",
     "text": [
      "   Column 1_0  Column 1_1\n",
      "0        True       False\n",
      "1        True       False\n",
      "2       False        True\n",
      "3       False        True\n",
      "4       False        True\n",
      "5       False        True\n",
      "6       False        True\n"
     ]
    }
   ],
   "source": [
    "# one_hot_encode (random)\n",
    "values = []\n",
    "for i in range(random.randint(1, 15)):\n",
    "    values.append(random.randint(0, 1))\n",
    "data = {\"Column 1\": values}\n",
    "\n",
    "df = pd.DataFrame(data)\n",
    "\n",
    "print(one_hot_encode(df[\"Column 1\"], [\"0\", \"1\"]))"
   ]
  },
  {
   "cell_type": "code",
   "execution_count": null,
   "metadata": {},
   "outputs": [
    {
     "name": "stdout",
     "output_type": "stream",
     "text": [
      "\n",
      "Summary for Column 1:\n",
      "Stats: mean   NaN,   std    NaN,   min    NaN,   50%    NaN,   max    NaN\n",
      "None\n"
     ]
    }
   ],
   "source": [
    "# summarize (edge)\n",
    "data = {\"Column 1\": []}\n",
    "\n",
    "df = pd.DataFrame(data)\n",
    "\n",
    "print(summarize(df))"
   ]
  },
  {
   "cell_type": "code",
   "execution_count": 45,
   "metadata": {},
   "outputs": [
    {
     "name": "stdout",
     "output_type": "stream",
     "text": [
      "\n",
      "Summary for Column 2:\n",
      "Unique values: 3\n",
      "Column 2\n",
      "A        1\n",
      "R        1\n",
      "ASUIH    1\n",
      "Name: count, dtype: int64\n",
      "\n",
      "Summary for Column 1:\n",
      "Stats: mean     39.333333,   std      62.962952,   min       1.000000,   50%       5.000000,   max     112.000000\n",
      "\n",
      "Summary for Column 3:\n",
      "Stats: mean    11.666667,   std     19.399313,   min     -1.000000,   50%      2.000000,   max     34.000000\n",
      "None\n"
     ]
    }
   ],
   "source": [
    "# summarize (general)\n",
    "data = {\"Column 1\": [1, 5, 112],\n",
    "        \"Column 2\": [\"A\", \"R\", \"ASUIH\"],\n",
    "        \"Column 3\": [34, -1, 2]}\n",
    "\n",
    "df = pd.DataFrame(data)\n",
    "\n",
    "print(summarize(df))"
   ]
  },
  {
   "cell_type": "code",
   "execution_count": 47,
   "metadata": {},
   "outputs": [
    {
     "name": "stdout",
     "output_type": "stream",
     "text": [
      "\n",
      "Summary for Column 1:\n",
      "Unique values: 4\n",
      "Column 1\n",
      "e8sAvNMoX0         1\n",
      "FicZO87Z55eYPBa    1\n",
      "hD9Em0             1\n",
      "ZsRPQJI7H30n       1\n",
      "Name: count, dtype: int64\n",
      "\n",
      "Summary for Column 2:\n",
      "Unique values: 4\n",
      "Column 2\n",
      "kAj6NMKMHG                   1\n",
      "ghYDJNQVVrLCa2Kj75wasEg9X    1\n",
      "6Ay3KRZFbEc1EbAQKdmq6N6Y     1\n",
      "9unZOql0GLEA9KeHF2Mnt7o      1\n",
      "Name: count, dtype: int64\n",
      "\n",
      "Summary for Column 0:\n",
      "Stats: mean    47.75000,   std     30.81531,   min     22.00000,   50%     39.50000,   max     90.00000\n",
      "None\n"
     ]
    }
   ],
   "source": [
    "# summarize (random)\n",
    "import string\n",
    "\n",
    "data = {}\n",
    "elements = random.randint(1, 5)\n",
    "for i in range(random.randint(1, 5)):\n",
    "    values = []\n",
    "    if random.randint(0, 1) == 0:\n",
    "        for j in range(elements):\n",
    "            values.append(random.randint(1, 100))\n",
    "    else:\n",
    "        for j in range(elements):\n",
    "            values.append(''.join(random.choices(string.ascii_letters + string.digits, k=random.randint(5, 25))))\n",
    "    data[\"Column \" + str(i)] = values\n",
    "\n",
    "df = pd.DataFrame(data)\n",
    "\n",
    "print(summarize(df))"
   ]
  }
 ],
 "metadata": {
  "kernelspec": {
   "display_name": "Python 3",
   "language": "python",
   "name": "python3"
  },
  "language_info": {
   "codemirror_mode": {
    "name": "ipython",
    "version": 3
   },
   "file_extension": ".py",
   "mimetype": "text/x-python",
   "name": "python",
   "nbconvert_exporter": "python",
   "pygments_lexer": "ipython3",
   "version": "3.13.2"
  }
 },
 "nbformat": 4,
 "nbformat_minor": 2
}
